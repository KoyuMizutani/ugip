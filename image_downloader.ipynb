{
 "cells": [
  {
   "cell_type": "code",
   "execution_count": 1,
   "metadata": {},
   "outputs": [],
   "source": [
    "from bs4 import BeautifulSoup\n",
    "\n",
    "html = ''\n",
    "with open('src/メンズ シャツ 2 _ SSENSE 日本.html', 'r') as f:\n",
    "    html = f.read()\n",
    "\n",
    "soup = BeautifulSoup(html)\n",
    "items = soup.select('div.plp-products__product-tile')"
   ]
  },
  {
   "cell_type": "code",
   "execution_count": 3,
   "metadata": {},
   "outputs": [],
   "source": [
    "import json"
   ]
  },
  {
   "cell_type": "code",
   "execution_count": 4,
   "metadata": {},
   "outputs": [
    {
     "data": {
      "text/plain": [
       "'https://img.ssensemedia.com/images/231527M192016_1/naked-and-famous-denim-blue-easy-shirt.jpg'"
      ]
     },
     "execution_count": 4,
     "metadata": {},
     "output_type": "execute_result"
    }
   ],
   "source": [
    "# largest image url\n",
    "json.loads(items[0].div.script.text.replace('\\n', '').replace(' ', ''))['image']"
   ]
  },
  {
   "cell_type": "code",
   "execution_count": 4,
   "metadata": {},
   "outputs": [],
   "source": [
    "urls = []\n",
    "for item in items:\n",
    "    url = json.loads(item.div.script.text.replace('\\n', '').replace(' ', ''))['image']\n",
    "    urls.append(url)"
   ]
  },
  {
   "cell_type": "code",
   "execution_count": 10,
   "metadata": {},
   "outputs": [],
   "source": [
    "import requests\n",
    "import pathlib\n",
    "\n",
    "for i, url in enumerate(urls):\n",
    "    dst_path = pathlib.Path(f'./src/orig/image{i+1}.jpg')\n",
    "    try:\n",
    "        res = requests.get(url)\n",
    "        res.raise_for_status()\n",
    "        data = res.content\n",
    "        # if dst_path.is_file():\n",
    "        #     print\n",
    "        dst_path.touch()\n",
    "        with open(dst_path, mode='wb') as local_file:\n",
    "            local_file.write(data)\n",
    "    except Exception as e:\n",
    "        print('error occured.')\n",
    "        print(e)"
   ]
  },
  {
   "cell_type": "code",
   "execution_count": null,
   "metadata": {},
   "outputs": [],
   "source": []
  }
 ],
 "metadata": {
  "kernelspec": {
   "display_name": "swap-XIZdi5wd-py3.9",
   "language": "python",
   "name": "python3"
  },
  "language_info": {
   "codemirror_mode": {
    "name": "ipython",
    "version": 3
   },
   "file_extension": ".py",
   "mimetype": "text/x-python",
   "name": "python",
   "nbconvert_exporter": "python",
   "pygments_lexer": "ipython3",
   "version": "3.9.16"
  },
  "orig_nbformat": 4,
  "vscode": {
   "interpreter": {
    "hash": "cdaaac17b2dc81976d2a162f89c3c739f7ef80135aa1d7def6999fb2c48b29ef"
   }
  }
 },
 "nbformat": 4,
 "nbformat_minor": 2
}
