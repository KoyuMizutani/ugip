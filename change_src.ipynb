{
 "cells": [
  {
   "cell_type": "code",
   "execution_count": 8,
   "metadata": {},
   "outputs": [],
   "source": [
    "from bs4 import BeautifulSoup\n",
    "\n",
    "html = ''\n",
    "with open('src/メンズ シャツ 2 _ SSENSE 日本.html', 'r') as f:\n",
    "    html = f.read()\n",
    "\n",
    "soup = BeautifulSoup(html)"
   ]
  },
  {
   "cell_type": "code",
   "execution_count": 9,
   "metadata": {},
   "outputs": [],
   "source": [
    "items = soup.select('div.plp-products__product-tile')"
   ]
  },
  {
   "cell_type": "code",
   "execution_count": 10,
   "metadata": {},
   "outputs": [
    {
     "data": {
      "text/plain": [
       "120"
      ]
     },
     "execution_count": 10,
     "metadata": {},
     "output_type": "execute_result"
    }
   ],
   "source": [
    "len(items)"
   ]
  },
  {
   "cell_type": "code",
   "execution_count": 6,
   "metadata": {},
   "outputs": [],
   "source": [
    "for i, item in enumerate(items):\n",
    "    swapped_link = f'swap/image{i+1}.jpg'\n",
    "    # swapped_link = f'swap/{i}_l.jpg'\n",
    "    item.div.a.picture.select('source:nth-of-type(1)')[0]['srcset'] = swapped_link\n",
    "    item.div.a.picture.select('source:nth-of-type(2)')[0]['srcset'] = swapped_link\n",
    "    item.div.a.picture.img['srcset'] = swapped_link\n",
    "    "
   ]
  },
  {
   "cell_type": "code",
   "execution_count": 7,
   "metadata": {},
   "outputs": [],
   "source": [
    "with open('src/ssense_swap.html', 'w') as f:\n",
    "    f.write(soup.prettify())"
   ]
  },
  {
   "attachments": {},
   "cell_type": "markdown",
   "metadata": {},
   "source": [
    "# Apply id attr to elements for creating dynamic swap page"
   ]
  },
  {
   "cell_type": "code",
   "execution_count": 11,
   "metadata": {},
   "outputs": [],
   "source": [
    "for i, item in enumerate(items):\n",
    "    swapped_link = f'swap/image{i+1}.jpg'\n",
    "    orig_link = f'orig/image{i+1}.jpg'\n",
    "    \n",
    "    # swapped_link = f'swap/{i}_l.jpg'\n",
    "    first_source_elem = item.div.a.picture.select('source:nth-of-type(1)')[0]\n",
    "    second_source_elem = item.div.a.picture.select('source:nth-of-type(2)')[0]\n",
    "    img_elem = item.div.a.picture.img\n",
    "\n",
    "    elems = [first_source_elem, second_source_elem, img_elem]\n",
    "    for j, elem in enumerate(elems):\n",
    "        elem['data-swap-path'] = swapped_link\n",
    "        elem['data-orig-path'] = orig_link\n",
    "        elem['name'] = f'swap-target'"
   ]
  },
  {
   "cell_type": "code",
   "execution_count": 12,
   "metadata": {},
   "outputs": [],
   "source": [
    "with open('src/ssense_swap_dynamic.html', 'w') as f:\n",
    "    f.write(soup.prettify())"
   ]
  },
  {
   "cell_type": "code",
   "execution_count": null,
   "metadata": {},
   "outputs": [],
   "source": []
  }
 ],
 "metadata": {
  "kernelspec": {
   "display_name": "swap-XIZdi5wd-py3.9",
   "language": "python",
   "name": "python3"
  },
  "language_info": {
   "codemirror_mode": {
    "name": "ipython",
    "version": 3
   },
   "file_extension": ".py",
   "mimetype": "text/x-python",
   "name": "python",
   "nbconvert_exporter": "python",
   "pygments_lexer": "ipython3",
   "version": "3.9.16"
  },
  "orig_nbformat": 4,
  "vscode": {
   "interpreter": {
    "hash": "cdaaac17b2dc81976d2a162f89c3c739f7ef80135aa1d7def6999fb2c48b29ef"
   }
  }
 },
 "nbformat": 4,
 "nbformat_minor": 2
}
